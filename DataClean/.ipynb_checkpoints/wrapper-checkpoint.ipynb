{
 "cells": [
  {
   "cell_type": "code",
   "execution_count": 1,
   "metadata": {
    "collapsed": true
   },
   "outputs": [],
   "source": [
    "import json\n",
    "filename = \"sample-S2-records\"\n",
    "filename2 = \"s2-corpus-001\"\n"
   ]
  },
  {
   "cell_type": "code",
   "execution_count": 2,
   "metadata": {},
   "outputs": [
    {
     "name": "stdout",
     "output_type": "stream",
     "text": [
      "['sample-S2-records']\n"
     ]
    }
   ],
   "source": [
    "import os             \n",
    "all_files = os.listdir(\"data/\")   \n",
    "print(all_files)"
   ]
  },
  {
   "cell_type": "code",
   "execution_count": 4,
   "metadata": {},
   "outputs": [],
   "source": [
    "## load the file to citation_data\n",
    "\n",
    "with open(\"data/\"+filename,encoding=\"utf-8\") as infile:\n",
    "    citation_data =  [json.loads(line) for line in infile]\n"
   ]
  },
  {
   "cell_type": "code",
   "execution_count": 5,
   "metadata": {},
   "outputs": [
    {
     "data": {
      "text/plain": [
       "100"
      ]
     },
     "execution_count": 5,
     "metadata": {},
     "output_type": "execute_result"
    }
   ],
   "source": [
    "len(citation_data)"
   ]
  },
  {
   "cell_type": "code",
   "execution_count": 6,
   "metadata": {
    "collapsed": true
   },
   "outputs": [],
   "source": [
    "## Get rid of the information that we don't care about\n",
    "for i in range(len(citation_data)):\n",
    "    for key in ['pmid', 's2Url', 's2PdfUrl', 'paperAbstract', 'pdfUrls', 'doi', 'sources', 'doiUrl']:\n",
    "        try:\n",
    "            del citation_data[i][key]\n",
    "        except KeyError:\n",
    "            pass"
   ]
  },
  {
   "cell_type": "code",
   "execution_count": 11,
   "metadata": {
    "collapsed": true
   },
   "outputs": [],
   "source": [
    "## Save to a json file\n",
    "with open(filename + '_cleaned.json', 'w') as json_file:\n",
    "    for line in citation_data:\n",
    "        json.dump(line, json_file)"
   ]
  },
  {
   "cell_type": "code",
   "execution_count": 10,
   "metadata": {},
   "outputs": [
    {
     "data": {
      "text/plain": [
       "{'authors': [{'ids': ['1398976368'], 'name': 'Uche A. K. Chude-Okonkwo'},\n",
       "  {'ids': ['2086245'], 'name': 'Razali Ngah'},\n",
       "  {'ids': ['46508339'], 'name': 'Yasser Zahedi'},\n",
       "  {'ids': ['98636866'], 'name': 'Sokayail Mohd Zaid'},\n",
       "  {'ids': ['145134223'], 'name': 'Tharek Bin Abd Rahman'}],\n",
       " 'entities': [],\n",
       " 'fieldsOfStudy': ['Engineering'],\n",
       " 'id': '3b6e618699ba65dd27fd40188e546cc1439ee865',\n",
       " 'inCitations': [],\n",
       " 'journalName': '',\n",
       " 'journalPages': '',\n",
       " 'journalVolume': '',\n",
       " 'outCitations': [],\n",
       " 'title': 'Measurement and Parameter Description of Time-varying Ultra-wideband Infostation Channel',\n",
       " 'venue': '',\n",
       " 'year': 2012}"
      ]
     },
     "execution_count": 10,
     "metadata": {},
     "output_type": "execute_result"
    }
   ],
   "source": [
    "citation_data[i]"
   ]
  },
  {
   "cell_type": "code",
   "execution_count": 20,
   "metadata": {},
   "outputs": [],
   "source": [
    "pub_keys = ['id', 'title', 'year']\n",
    "pub_array = [ ]\n",
    "for pub in citation_data:\n",
    "    pub_list = []\n",
    "    for key in pub_keys:\n",
    "        try:\n",
    "            pub_list.append(pub[key])\n",
    "        except KeyError:\n",
    "            pub_list.append('')\n",
    "            \n",
    "    pub_array.append(pub_list)\n",
    "\n",
    "\n",
    "    \n"
   ]
  },
  {
   "cell_type": "code",
   "execution_count": 30,
   "metadata": {},
   "outputs": [
    {
     "name": "stdout",
     "output_type": "stream",
     "text": [
      "1c04906e90574c8229094a5b8486ac8e633c0a46\tForster's Progress\t1966\t"
     ]
    }
   ],
   "source": [
    "for a in pub_array[0]:\n",
    "    print(a, end =\"\\t\")"
   ]
  },
  {
   "cell_type": "code",
   "execution_count": 39,
   "metadata": {},
   "outputs": [],
   "source": [
    "#def write_file(table, filename):\n",
    "with open(filename + '_cleaned.txt', 'w',encoding='utf-8') as txt_file:\n",
    "    for pub in pub_array:\n",
    "        for field in pub:\n",
    "            txt_file.write(str(field));\n",
    "            txt_file.write(\"\\t\");\n",
    "        txt_file.write(\"\\n\")"
   ]
  },
  {
   "cell_type": "code",
   "execution_count": null,
   "metadata": {
    "collapsed": true
   },
   "outputs": [],
   "source": []
  }
 ],
 "metadata": {
  "kernelspec": {
   "display_name": "Python 3",
   "language": "python",
   "name": "python3"
  },
  "language_info": {
   "codemirror_mode": {
    "name": "ipython",
    "version": 3
   },
   "file_extension": ".py",
   "mimetype": "text/x-python",
   "name": "python",
   "nbconvert_exporter": "python",
   "pygments_lexer": "ipython3",
   "version": "3.6.3"
  }
 },
 "nbformat": 4,
 "nbformat_minor": 2
}
