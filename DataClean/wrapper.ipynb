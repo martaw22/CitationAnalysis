{
 "cells": [
  {
   "cell_type": "code",
   "execution_count": 1,
   "metadata": {},
   "outputs": [],
   "source": [
    "import json\n",
    "#filename = \"sample-S2-records\"\n",
    "#filename2 = \"s2-corpus-001\"\n",
    "\n",
    "import os   \n",
    "\n",
    "from DataManipulation import *\n",
    "from SaveTables import *\n",
    "all_files = os.listdir(\"data/\")  # get all files\n",
    "save_dir = \"Tables/\" # Tables Directory\n"
   ]
  },
  {
   "cell_type": "code",
   "execution_count": 2,
   "metadata": {},
   "outputs": [],
   "source": [
    "all_files = ['sample-S2-records']\n",
    "test_files = ['s2-corpus-001_cleaned.json']"
   ]
  },
  {
   "cell_type": "code",
   "execution_count": 4,
   "metadata": {},
   "outputs": [
    {
     "name": "stdout",
     "output_type": "stream",
     "text": [
      "Processing  s2-corpus-001_cleaned.json\n"
     ]
    }
   ],
   "source": [
    "# Initialization\n",
    "\n",
    "\n",
    "Authors = {}\n",
    "Publications = []\n",
    "Journals = {}\n",
    "InCitations = []\n",
    "OutCitations = []\n",
    "PublishedIn = {}\n",
    "Authored = []\n",
    "\n",
    "\n",
    "## load the file to citation_data\n",
    "for filename in test_files:\n",
    "    print(\"Processing \",filename)\n",
    "    with open(\"data/\"+filename,encoding=\"utf-8\") as infile:\n",
    "        citation_data =  [json.loads(line) for line in infile]\n",
    "        \n",
    "    # Fill in values    \n",
    "    FillInTable(citation_data,Publications,Authors,Journals,PublishedIn,InCitations,OutCitations,Authored)\n",
    "    \n"
   ]
  },
  {
   "cell_type": "code",
   "execution_count": 5,
   "metadata": {},
   "outputs": [],
   "source": [
    "# Save Tables\n",
    "\n",
    "SaveAuthors(save_dir,Authors)\n",
    "SavePublications(save_dir,Publications)\n",
    "SaveJournals(save_dir,Journals)\n",
    "SaveInCitations(save_dir,InCitations)\n",
    "SaveOutCitations(save_dir,OutCitations)\n",
    "SavePublishedIn(save_dir,PublishedIn)\n",
    "SaveAuthored(save_dir,Authored)"
   ]
  },
  {
   "cell_type": "code",
   "execution_count": null,
   "metadata": {
    "collapsed": true
   },
   "outputs": [],
   "source": []
  },
  {
   "cell_type": "code",
   "execution_count": null,
   "metadata": {
    "collapsed": true
   },
   "outputs": [],
   "source": []
  },
  {
   "cell_type": "code",
   "execution_count": null,
   "metadata": {
    "collapsed": true
   },
   "outputs": [],
   "source": []
  },
  {
   "cell_type": "code",
   "execution_count": 32,
   "metadata": {
    "collapsed": true
   },
   "outputs": [],
   "source": [
    "## Save to a json file\n",
    "with open('data/' + filename + '_cleaned.json', 'w') as json_file:\n",
    "    for line in citation_data:\n",
    "        json.dump(line, json_file)\n",
    "        #print(line)\n",
    "        json_file.write('\\n')"
   ]
  },
  {
   "cell_type": "code",
   "execution_count": 23,
   "metadata": {
    "collapsed": true
   },
   "outputs": [],
   "source": [
    "## Clean all files in the directory to_be_cleaned\n",
    "all_files = os.listdir(\"data/to_be_cleaned\")  \n",
    "for file in all_files:\n",
    "    filename = file\n",
    "    ## load the file to citation_data\n",
    "    with open(\"data/to_be_cleaned/\"+filename,encoding=\"utf-8\") as infile:\n",
    "        citation_data =  [json.loads(line) for line in infile]\n",
    "    \n",
    "    ## Get rid of the information that we don't care about\n",
    "    for i in range(len(citation_data)):\n",
    "        for key in ['pmid', 's2Url', 's2PdfUrl', 'paperAbstract', 'pdfUrls', 'doi', 'sources', 'doiUrl', 'entities', 'title', 'journalPages', 'journalVolume']:\n",
    "            try:\n",
    "                del citation_data[i][key]\n",
    "            except KeyError:\n",
    "                pass\n",
    "\n",
    "    ## Save to a json file\n",
    "    with open('data/cleaned/' + filename + '_cleaned.json', 'w') as json_file:\n",
    "        for line in citation_data:\n",
    "            json.dump(line, json_file)\n",
    "            json_file.write('\\n')"
   ]
  },
  {
   "cell_type": "code",
   "execution_count": 13,
   "metadata": {
    "collapsed": true
   },
   "outputs": [],
   "source": [
    "\n"
   ]
  },
  {
   "cell_type": "code",
   "execution_count": 14,
   "metadata": {},
   "outputs": [
    {
     "data": {
      "text/plain": [
       "{'fieldsOfStudy': [],\n",
       " 'year': 2011,\n",
       " 'outCitations': [],\n",
       " 'id': '5057895c4b6fea4ec15011438e2b21c886e825e5',\n",
       " 'authors': [{'name': 'Enrique C. Arellano Aguilar', 'ids': ['112970573']}],\n",
       " 'journalName': '',\n",
       " 'inCitations': [],\n",
       " 'venue': ''}"
      ]
     },
     "execution_count": 14,
     "metadata": {},
     "output_type": "execute_result"
    }
   ],
   "source": [
    "cleaned_citation_data[0]"
   ]
  },
  {
   "cell_type": "markdown",
   "metadata": {
    "collapsed": true
   },
   "source": [
    "copy data into psql\n",
    "\n",
    "\\copy jsondata from 'sample-S2-records_cleaned.json';\n",
    "\n",
    "_____________\n",
    "\n",
    "SELECT\n",
    "   jsonColumnName -> 'columnName' AS columnName\n",
    "FROM\n",
    "   tablename;"
   ]
  }
 ],
 "metadata": {
  "kernelspec": {
   "display_name": "Python 3",
   "language": "python",
   "name": "python3"
  },
  "language_info": {
   "codemirror_mode": {
    "name": "ipython",
    "version": 3
   },
   "file_extension": ".py",
   "mimetype": "text/x-python",
   "name": "python",
   "nbconvert_exporter": "python",
   "pygments_lexer": "ipython3",
   "version": "3.7.3"
  }
 },
 "nbformat": 4,
 "nbformat_minor": 2
}
