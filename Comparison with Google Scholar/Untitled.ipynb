{
 "cells": [
  {
   "cell_type": "code",
   "execution_count": 2,
   "metadata": {
    "collapsed": true
   },
   "outputs": [],
   "source": [
    "import pandas as pd"
   ]
  },
  {
   "cell_type": "code",
   "execution_count": 3,
   "metadata": {
    "collapsed": true
   },
   "outputs": [],
   "source": [
    "Data = pd.read_csv('H-index.csv')"
   ]
  },
  {
   "cell_type": "code",
   "execution_count": 4,
   "metadata": {
    "collapsed": true
   },
   "outputs": [],
   "source": [
    "Data = Data[:8]"
   ]
  },
  {
   "cell_type": "code",
   "execution_count": 5,
   "metadata": {},
   "outputs": [
    {
     "data": {
      "text/html": [
       "<div>\n",
       "<style scoped>\n",
       "    .dataframe tbody tr th:only-of-type {\n",
       "        vertical-align: middle;\n",
       "    }\n",
       "\n",
       "    .dataframe tbody tr th {\n",
       "        vertical-align: top;\n",
       "    }\n",
       "\n",
       "    .dataframe thead th {\n",
       "        text-align: right;\n",
       "    }\n",
       "</style>\n",
       "<table border=\"1\" class=\"dataframe\">\n",
       "  <thead>\n",
       "    <tr style=\"text-align: right;\">\n",
       "      <th></th>\n",
       "      <th>NAME</th>\n",
       "      <th>Semantic Scholar</th>\n",
       "      <th>Google Scholar</th>\n",
       "      <th>Department</th>\n",
       "      <th>Institution</th>\n",
       "      <th>Year</th>\n",
       "    </tr>\n",
       "  </thead>\n",
       "  <tbody>\n",
       "    <tr>\n",
       "      <th>0</th>\n",
       "      <td>Walter C Willett</td>\n",
       "      <td>204</td>\n",
       "      <td>NaN</td>\n",
       "      <td>Public Health</td>\n",
       "      <td>Harvard</td>\n",
       "      <td>1945.0</td>\n",
       "    </tr>\n",
       "    <tr>\n",
       "      <th>1</th>\n",
       "      <td>Eric S. Lander</td>\n",
       "      <td>184</td>\n",
       "      <td>270.0</td>\n",
       "      <td>Biology</td>\n",
       "      <td>Harvard/MIT</td>\n",
       "      <td>1957.0</td>\n",
       "    </tr>\n",
       "    <tr>\n",
       "      <th>2</th>\n",
       "      <td>Meir J. Stampfer</td>\n",
       "      <td>174</td>\n",
       "      <td>NaN</td>\n",
       "      <td>Public Health</td>\n",
       "      <td>Harvard</td>\n",
       "      <td>NaN</td>\n",
       "    </tr>\n",
       "    <tr>\n",
       "      <th>3</th>\n",
       "      <td>Bert Vogelstein</td>\n",
       "      <td>171</td>\n",
       "      <td>268.0</td>\n",
       "      <td>Medical School</td>\n",
       "      <td>Johns Hopkins</td>\n",
       "      <td>1949.0</td>\n",
       "    </tr>\n",
       "    <tr>\n",
       "      <th>4</th>\n",
       "      <td>Graham A. Colditz</td>\n",
       "      <td>169</td>\n",
       "      <td>287.0</td>\n",
       "      <td>Surgery</td>\n",
       "      <td>Washington University in St. Louis</td>\n",
       "      <td>1954.0</td>\n",
       "    </tr>\n",
       "  </tbody>\n",
       "</table>\n",
       "</div>"
      ],
      "text/plain": [
       "                NAME  Semantic Scholar  Google Scholar      Department  \\\n",
       "0   Walter C Willett               204             NaN   Public Health   \n",
       "1     Eric S. Lander               184           270.0         Biology   \n",
       "2   Meir J. Stampfer               174             NaN   Public Health   \n",
       "3    Bert Vogelstein               171           268.0  Medical School   \n",
       "4  Graham A. Colditz               169           287.0         Surgery   \n",
       "\n",
       "                          Institution    Year  \n",
       "0                             Harvard  1945.0  \n",
       "1                         Harvard/MIT  1957.0  \n",
       "2                             Harvard     NaN  \n",
       "3                       Johns Hopkins  1949.0  \n",
       "4  Washington University in St. Louis  1954.0  "
      ]
     },
     "execution_count": 5,
     "metadata": {},
     "output_type": "execute_result"
    }
   ],
   "source": [
    "Data.head()"
   ]
  },
  {
   "cell_type": "code",
   "execution_count": 6,
   "metadata": {
    "collapsed": true
   },
   "outputs": [],
   "source": [
    "import matplotlib\n",
    "import matplotlib.pyplot as plt\n",
    "import numpy as np"
   ]
  },
  {
   "cell_type": "code",
   "execution_count": 10,
   "metadata": {},
   "outputs": [
    {
     "data": {
      "image/png": "[encoded data removed]",
      "text/plain": [
       "<Figure size 1296x360 with 1 Axes>"
      ]
     },
     "metadata": {},
     "output_type": "display_data"
    }
   ],
   "source": [
    "labels = Data['NAME']\n",
    "\n",
    "x = np.arange(len(labels))  # the label locations\n",
    "width = 0.15  # the width of the bars\n",
    "\n",
    "fig, ax = plt.subplots(figsize=(18,5))\n",
    "\n",
    "rects1 = ax.bar(x - width/2, Data['Semantic Scholar'], width, label='Semantic Scholar')\n",
    "rects2 = ax.bar(x + width/2, Data['Google Scholar'], width, label='Google Scholar')\n",
    "\n",
    "# Add some text for labels, title and custom x-axis tick labels, etc.\n",
    "ax.set_ylabel('H-Index',fontsize = 18)\n",
    "ax.set_title('H-Index by Semantic Scholar and Google Scholar',fontsize = 18)\n",
    "ax.set_xticks(x)\n",
    "plt.yticks(fontsize=16)\n",
    "ax.set_xticklabels(labels,fontsize = 16)\n",
    "ax.legend(fontsize = 16)\n",
    "\n",
    "\n",
    "def autolabel(rects):\n",
    "    \"\"\"Attach a text label above each bar in *rects*, displaying its height.\"\"\"\n",
    "    for rect in rects:\n",
    "        height = rect.get_height()\n",
    "        ax.annotate('{}'.format(height),\n",
    "                    xy=(rect.get_x() + rect.get_width() / 2, height),\n",
    "                    xytext=(0, 3),  # 3 points vertical offset\n",
    "                    textcoords=\"offset points\",\n",
    "                    ha='center', va='bottom')\n",
    "\n",
    "\n",
    "#autolabel(rects1)\n",
    "#autolabel(rects2)\n",
    "\n",
    "fig.tight_layout()\n",
    "\n",
    "plt.rcParams.update({'font.size': 16})\n",
    "plt.savefig('SemanticGoogle.pdf', bbox_inches = \"tight\")\n",
    "plt.show()"
   ]
  },
  {
   "cell_type": "code",
   "execution_count": null,
   "metadata": {
    "collapsed": true
   },
   "outputs": [],
   "source": []
  }
 ],
 "metadata": {
  "kernelspec": {
   "display_name": "Python 3",
   "language": "python",
   "name": "python3"
  },
  "language_info": {
   "codemirror_mode": {
    "name": "ipython",
    "version": 3
   },
   "file_extension": ".py",
   "mimetype": "text/x-python",
   "name": "python",
   "nbconvert_exporter": "python",
   "pygments_lexer": "ipython3",
   "version": "3.6.3"
  }
 },
 "nbformat": 4,
 "nbformat_minor": 2
}
